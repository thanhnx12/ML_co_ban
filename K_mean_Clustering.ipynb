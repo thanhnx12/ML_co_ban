{
  "nbformat": 4,
  "nbformat_minor": 0,
  "metadata": {
    "colab": {
      "provenance": [],
      "authorship_tag": "ABX9TyMGvZ42qpkYGecdtGmKTs7Z",
      "include_colab_link": true
    },
    "kernelspec": {
      "name": "python3",
      "display_name": "Python 3"
    },
    "language_info": {
      "name": "python"
    }
  },
  "cells": [
    {
      "cell_type": "markdown",
      "metadata": {
        "id": "view-in-github",
        "colab_type": "text"
      },
      "source": [
        "<a href=\"https://colab.research.google.com/github/thanhnx12/ML_co_ban/blob/main/K_mean_Clustering.ipynb\" target=\"_parent\"><img src=\"https://colab.research.google.com/assets/colab-badge.svg\" alt=\"Open In Colab\"/></a>"
      ]
    },
    {
      "cell_type": "code",
      "execution_count": 1,
      "metadata": {
        "colab": {
          "base_uri": "https://localhost:8080/"
        },
        "id": "PQFyVlFj-JJm",
        "outputId": "d0272fe2-5238-4b0f-be5a-2ad7538031ba"
      },
      "outputs": [
        {
          "output_type": "stream",
          "name": "stdout",
          "text": [
            "Looking in indexes: https://pypi.org/simple, https://us-python.pkg.dev/colab-wheels/public/simple/\n",
            "Requirement already satisfied: scikit-learn in /usr/local/lib/python3.7/dist-packages (1.0.2)\n",
            "Requirement already satisfied: numpy>=1.14.6 in /usr/local/lib/python3.7/dist-packages (from scikit-learn) (1.21.6)\n",
            "Requirement already satisfied: threadpoolctl>=2.0.0 in /usr/local/lib/python3.7/dist-packages (from scikit-learn) (3.1.0)\n",
            "Requirement already satisfied: joblib>=0.11 in /usr/local/lib/python3.7/dist-packages (from scikit-learn) (1.2.0)\n",
            "Requirement already satisfied: scipy>=1.1.0 in /usr/local/lib/python3.7/dist-packages (from scikit-learn) (1.7.3)\n",
            "Looking in indexes: https://pypi.org/simple, https://us-python.pkg.dev/colab-wheels/public/simple/\n",
            "Requirement already satisfied: numpy in /usr/local/lib/python3.7/dist-packages (1.21.6)\n"
          ]
        }
      ],
      "source": [
        "!pip install scikit-learn\n",
        "!pip install numpy\n"
      ]
    },
    {
      "cell_type": "code",
      "source": [
        "from __future__ import print_function\n",
        "import numpy as np\n",
        "import matplotlib.pyplot as plt\n",
        "from scipy.spatial.distance import cdist #ham cdist de tinh khoang cach giua cac cap diem trong 2 tap hop mot cach hieu qua\n",
        "import random\n",
        "from sklearn.cluster import Kmeans"
      ],
      "metadata": {
        "colab": {
          "base_uri": "https://localhost:8080/",
          "height": 353
        },
        "id": "bhb-cMJx-Vjb",
        "outputId": "b5e6cd9f-e13f-4587-f0be-b0f2be4475c1"
      },
      "execution_count": 30,
      "outputs": [
        {
          "output_type": "error",
          "ename": "ImportError",
          "evalue": "ignored",
          "traceback": [
            "\u001b[0;31m---------------------------------------------------------------------------\u001b[0m",
            "\u001b[0;31mImportError\u001b[0m                               Traceback (most recent call last)",
            "\u001b[0;32m<ipython-input-30-482dc7fca208>\u001b[0m in \u001b[0;36m<module>\u001b[0;34m\u001b[0m\n\u001b[1;32m      4\u001b[0m \u001b[0;32mfrom\u001b[0m \u001b[0mscipy\u001b[0m\u001b[0;34m.\u001b[0m\u001b[0mspatial\u001b[0m\u001b[0;34m.\u001b[0m\u001b[0mdistance\u001b[0m \u001b[0;32mimport\u001b[0m \u001b[0mcdist\u001b[0m \u001b[0;31m#ham cdist de tinh khoang cach giua cac cap diem trong 2 tap hop mot cach hieu qua\u001b[0m\u001b[0;34m\u001b[0m\u001b[0;34m\u001b[0m\u001b[0m\n\u001b[1;32m      5\u001b[0m \u001b[0;32mimport\u001b[0m \u001b[0mrandom\u001b[0m\u001b[0;34m\u001b[0m\u001b[0;34m\u001b[0m\u001b[0m\n\u001b[0;32m----> 6\u001b[0;31m \u001b[0;32mfrom\u001b[0m \u001b[0msklearn\u001b[0m\u001b[0;34m.\u001b[0m\u001b[0mcluster\u001b[0m \u001b[0;32mimport\u001b[0m \u001b[0mKmeans\u001b[0m\u001b[0;34m\u001b[0m\u001b[0;34m\u001b[0m\u001b[0m\n\u001b[0m",
            "\u001b[0;31mImportError\u001b[0m: cannot import name 'Kmeans' from 'sklearn.cluster' (/usr/local/lib/python3.7/dist-packages/sklearn/cluster/__init__.py)",
            "",
            "\u001b[0;31m---------------------------------------------------------------------------\u001b[0;32m\nNOTE: If your import is failing due to a missing package, you can\nmanually install dependencies using either !pip or !apt.\n\nTo view examples of installing some common dependencies, click the\n\"Open Examples\" button below.\n\u001b[0;31m---------------------------------------------------------------------------\u001b[0m\n"
          ],
          "errorDetails": {
            "actions": [
              {
                "action": "open_url",
                "actionText": "Open Examples",
                "url": "/notebooks/snippets/importing_libraries.ipynb"
              }
            ]
          }
        }
      ]
    },
    {
      "cell_type": "code",
      "source": [
        "np.random.seed(18)\n",
        "means = [[2, 2], [8, 3], [3, 6]]\n",
        "cov = [[1, 0], [0, 1]]\n",
        "N = 500\n",
        "#random N diem theo phan phoi chuan\n",
        "X0 = np.random.multivariate_normal(means[0], cov, N)\n",
        "X1 = np.random.multivariate_normal(means[1], cov, N)\n",
        "X2 = np.random.multivariate_normal(means[2], cov, N)\n",
        "X = np.concatenate((X0, X1, X2), axis = 0) #gop 3 tap X0,X1,X2 vao X\n",
        "K = 3 # 3 clusters\n",
        "original_label = np.asarray([0]*N + [1]*N + [2]*N).T"
      ],
      "metadata": {
        "id": "N31tdKE7-kHd"
      },
      "execution_count": 40,
      "outputs": []
    },
    {
      "cell_type": "code",
      "source": [
        "print(original_label) \n",
        "print(X.shape)"
      ],
      "metadata": {
        "colab": {
          "base_uri": "https://localhost:8080/"
        },
        "id": "Ic6ir8dz_096",
        "outputId": "188d407c-df5f-47fb-89cf-607419d39f37"
      },
      "execution_count": 15,
      "outputs": [
        {
          "output_type": "stream",
          "name": "stdout",
          "text": [
            "[0 0 0 ... 2 2 2]\n",
            "(1500, 2)\n"
          ]
        }
      ]
    },
    {
      "cell_type": "code",
      "source": [
        "def kmeans_init_centroids(X, k):\n",
        "  # randomly pick k rows of X as initial centroids\n",
        "  return X[np.random.choice(X.shape[0], k, replace=False)]\n",
        "def kmeans_assign_labels(X, centroids):\n",
        "  # calculate pairwise distances btw data and centroids\n",
        "  D = cdist(X, centroids)\n",
        "  #print(D)\n",
        "  # return index of the closest centroid\n",
        "  #print(np.argmin(D,axis = 1))\n",
        "  return np.argmin(D, axis = 1)\n",
        "def has_converged(centroids, new_centroids):\n",
        "  # return True if two sets of centroids are the same\n",
        "  return (set([tuple(a) for a in centroids]) ==\n",
        "    set([tuple(a) for a in new_centroids]))\n",
        "def kmeans_update_centroids(X, labels, K):\n",
        "  centroids = np.zeros((K, X.shape[1]))\n",
        "  for k in range(K):\n",
        "  # collect all points that are assigned to the k-th cluster\n",
        "    Xk = X[labels == k, :]\n",
        "  centroids[k,:] = np.mean(Xk, axis = 0) # then take average\n",
        "  return centroids"
      ],
      "metadata": {
        "id": "_4oY4pyO_2Ro"
      },
      "execution_count": 24,
      "outputs": []
    },
    {
      "cell_type": "code",
      "source": [
        "print(kmeans_init_centroids(X,3))"
      ],
      "metadata": {
        "colab": {
          "base_uri": "https://localhost:8080/"
        },
        "id": "fvq6rJC0BHWl",
        "outputId": "6d560203-7b38-46c2-b99a-ba04647d08a3"
      },
      "execution_count": 16,
      "outputs": [
        {
          "output_type": "stream",
          "name": "stdout",
          "text": [
            "[[2.92052372 5.14371031]\n",
            " [3.55316972 5.76714535]\n",
            " [0.39518807 3.10826867]]\n"
          ]
        }
      ]
    },
    {
      "cell_type": "code",
      "source": [
        "kmeans_assign_labels(X,kmeans_init_centroids(X,2))"
      ],
      "metadata": {
        "colab": {
          "base_uri": "https://localhost:8080/"
        },
        "id": "VKPD0R3vBMg-",
        "outputId": "352498ec-0c17-4f85-c8c5-1e928e8173ff"
      },
      "execution_count": 25,
      "outputs": [
        {
          "output_type": "execute_result",
          "data": {
            "text/plain": [
              "array([0, 0, 0, 0, 0, 1, 1, 1, 1, 1, 0, 0, 0, 0, 0])"
            ]
          },
          "metadata": {},
          "execution_count": 25
        }
      ]
    },
    {
      "cell_type": "code",
      "source": [
        "def kmeans_display(X, label):\n",
        "    K = np.amax(label) + 1\n",
        "    X0 = X[label == 0, :]\n",
        "    X1 = X[label == 1, :]\n",
        "    X2 = X[label == 2, :]\n",
        "    \n",
        "    plt.plot(X0[:, 0], X0[:, 1], 'b^', markersize = 4, alpha = .8)\n",
        "    plt.plot(X1[:, 0], X1[:, 1], 'go', markersize = 4, alpha = .8)\n",
        "    plt.plot(X2[:, 0], X2[:, 1], 'rs', markersize = 4, alpha = .8)\n",
        "\n",
        "    plt.axis('equal')\n",
        "    plt.plot()\n",
        "    plt.show()\n",
        "    \n",
        "kmeans_display(X, original_label)"
      ],
      "metadata": {
        "colab": {
          "base_uri": "https://localhost:8080/",
          "height": 265
        },
        "id": "HFEwqT_NJGCw",
        "outputId": "4a5a60cd-98bf-4b1e-c68d-9e333d199107"
      },
      "execution_count": 36,
      "outputs": [
        {
          "output_type": "display_data",
          "data": {
            "text/plain": [
              "<Figure size 432x288 with 1 Axes>"
            ],
            "image/png": "[encoded data removed]"
          },
          "metadata": {
            "needs_background": "light"
          }
        }
      ]
    },
    {
      "cell_type": "code",
      "source": [
        "def kmeans(X, K):\n",
        "  centroids = [kmeans_init_centroids(X, K)]\n",
        "  labels = []\n",
        "  it = 0\n",
        "  while True:\n",
        "    labels.append(kmeans_assign_labels(X, centroids[-1]))\n",
        "    new_centroids = kmeans_update_centroids(X, labels[-1], K)\n",
        "    if has_converged(centroids[-1], new_centroids):\n",
        "      break\n",
        "    centroids.append(new_centroids)\n",
        "    it += 1\n",
        "  return (centroids, labels, it)"
      ],
      "metadata": {
        "id": "oFA5_JttIp4m"
      },
      "execution_count": 42,
      "outputs": []
    },
    {
      "cell_type": "code",
      "source": [
        "(centroids, labels, it) = kmeans(X, K)\n",
        "print('Centers found by our algorithm:\\n', centroids[-1])\n",
        "kmeans_display(X, labels[-1])"
      ],
      "metadata": {
        "colab": {
          "base_uri": "https://localhost:8080/",
          "height": 338
        },
        "id": "OZTzCk7sFJTN",
        "outputId": "6363feec-674d-411d-f653-7b5fb1a150b4"
      },
      "execution_count": 43,
      "outputs": [
        {
          "output_type": "stream",
          "name": "stdout",
          "text": [
            "Centers found by our algorithm:\n",
            " [[0.         0.        ]\n",
            " [0.         0.        ]\n",
            " [5.20574422 4.26629466]]\n"
          ]
        },
        {
          "output_type": "display_data",
          "data": {
            "text/plain": [
              "<Figure size 432x288 with 1 Axes>"
            ],
            "image/png": "[encoded data removed]"
          },
          "metadata": {
            "needs_background": "light"
          }
        }
      ]
    }
  ]
}