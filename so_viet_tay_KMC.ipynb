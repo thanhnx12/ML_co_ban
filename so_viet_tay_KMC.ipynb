{
  "nbformat": 4,
  "nbformat_minor": 0,
  "metadata": {
    "colab": {
      "provenance": [],
      "authorship_tag": "ABX9TyPcY3EixbFqvRY6Ir41eyW6",
      "include_colab_link": true
    },
    "kernelspec": {
      "name": "python3",
      "display_name": "Python 3"
    },
    "language_info": {
      "name": "python"
    }
  },
  "cells": [
    {
      "cell_type": "markdown",
      "metadata": {
        "id": "view-in-github",
        "colab_type": "text"
      },
      "source": [
        "<a href=\"https://colab.research.google.com/github/thanhnx12/ML_co_ban/blob/main/so_viet_tay_KMC.ipynb\" target=\"_parent\"><img src=\"https://colab.research.google.com/assets/colab-badge.svg\" alt=\"Open In Colab\"/></a>"
      ]
    },
    {
      "cell_type": "code",
      "source": [
        "from __future__ import print_function\n",
        "import numpy as np\n",
        "from sklearn.datasets import fetch_openml\n",
        "mnist = fetch_openml('mnist_784')\n",
        "print(\"Shape of minst data:\", mnist.data.shape)"
      ],
      "metadata": {
        "id": "DHdhmEqWNC_v",
        "outputId": "52b27064-0952-4cbe-ec3b-52f059766252",
        "colab": {
          "base_uri": "https://localhost:8080/"
        }
      },
      "execution_count": null,
      "outputs": [
        {
          "output_type": "stream",
          "name": "stdout",
          "text": [
            "Shape of minst data: (70000, 784)\n"
          ]
        }
      ]
    },
    {
      "cell_type": "code",
      "source": [
        "from sklearn.cluster import KMeans\n",
        "from sklearn.neighbors import NearestNeighbors\n",
        "K = 10 # number of clusters\n",
        "N = 10000\n",
        "X = mnist.data.iloc[np.random.choice(mnist.data.shape[0], N)]\n",
        "kmeans = KMeans(n_clusters=K).fit(X)\n",
        "pred_label = kmeans.predict(X)"
      ],
      "metadata": {
        "id": "lWJuxeXzPMxH"
      },
      "execution_count": null,
      "outputs": []
    },
    {
      "cell_type": "code",
      "source": [
        "print(mnist.data.iloc[2])"
      ],
      "metadata": {
        "id": "fQlNHWCEP0RH",
        "outputId": "6393f098-d4e8-45e9-ff92-0f259c242efe",
        "colab": {
          "base_uri": "https://localhost:8080/"
        }
      },
      "execution_count": null,
      "outputs": [
        {
          "output_type": "stream",
          "name": "stdout",
          "text": [
            "pixel1      0.0\n",
            "pixel2      0.0\n",
            "pixel3      0.0\n",
            "pixel4      0.0\n",
            "pixel5      0.0\n",
            "           ... \n",
            "pixel780    0.0\n",
            "pixel781    0.0\n",
            "pixel782    0.0\n",
            "pixel783    0.0\n",
            "pixel784    0.0\n",
            "Name: 2, Length: 784, dtype: float64\n"
          ]
        }
      ]
    },
    {
      "cell_type": "code",
      "source": [],
      "metadata": {
        "id": "EMwNZQVBP5bE"
      },
      "execution_count": null,
      "outputs": []
    }
  ]
}